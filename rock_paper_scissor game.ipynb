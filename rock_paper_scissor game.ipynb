{
 "cells": [
  {
   "cell_type": "code",
   "execution_count": 1,
   "id": "c6443edf",
   "metadata": {},
   "outputs": [],
   "source": [
    "import random "
   ]
  },
  {
   "cell_type": "code",
   "execution_count": 2,
   "id": "ff111f7e",
   "metadata": {},
   "outputs": [],
   "source": [
    "def user_choice():\n",
    "    while True:\n",
    "        # Prompt user for input\n",
    "        user_score = input(\"Enter your choice!\\n1. Rock\\n2. Scissor\\n3. Paper\\n\")\n"
   ]
  },
  {
   "cell_type": "code",
   "execution_count": 3,
   "id": "8f4ca629",
   "metadata": {},
   "outputs": [],
   "source": [
    "import random\n",
    "\n",
    "def computer_choice():\n",
    "    # Generate a random choice for the computer\n",
    "    computer_choice = random.choice([\"rock\", \"scissor\", \"paper\"])\n",
    "    return computer_choice\n",
    "\n",
    "# Example usage\n",
    "# computer_selection = computer_choice()\n",
    "# print(\"Computer selected:\", computer_selection)\n"
   ]
  },
  {
   "cell_type": "code",
   "execution_count": 4,
   "id": "c1d5327b",
   "metadata": {},
   "outputs": [],
   "source": [
    "def winner(user_choice,computer_choice):# create the function ehich user and computer choice to determine result\n",
    "    if user_choice==computer_choice:\n",
    "        return \"its an tie! well played\"\n",
    "    elif (user_choice==\"rock\" and computer_choice==\"scissor\") or \\\n",
    "         (user_choice==\"scissor\" and computer_choice==\"paper\") or \\\n",
    "         (user_choice==\"paper\" and computer_choice==\"rock\"):\n",
    "        return \"user win ! Congratulation\"\n",
    "    else:\n",
    "        return \"Computer win ! Try again\"\n",
    "    \n",
    "    "
   ]
  },
  {
   "cell_type": "code",
   "execution_count": 5,
   "id": "ddef0971",
   "metadata": {},
   "outputs": [],
   "source": [
    "def play():\n",
    "    user_score = 0\n",
    "    computer_score = 0\n",
    "    \n",
    "    while True:\n",
    "        # Get user and computer choices\n",
    "        user = user_choice()\n",
    "        computer = computer_choice()\n",
    "        \n",
    "        # Display choices\n",
    "        print(\"You chose:\", user)\n",
    "        print(\"Computer chose:\", computer)\n",
    "        \n",
    "        # Determine the winner\n",
    "        result = winner(user, computer)\n",
    "        print(result)\n",
    "        \n",
    "        # Update scores\n",
    "        if result == \"User wins! Congratulations\":\n",
    "            user_score += 1\n",
    "        elif result == \"Computer wins! Try again\":\n",
    "            computer_score += 1\n",
    "        \n",
    "        # Display scores\n",
    "        print(\"Your score is:\", user_score)\n",
    "        print(\"Computer's score is:\", computer_score)\n",
    "        \n",
    "        # Ask if the user wants to play again\n",
    "        play_again = input(\"Do you want to play again? (yes/no): \").lower()\n",
    "        if play_again != \"yes\":\n",
    "            break\n",
    "    \n",
    "    print(\"Thanks for playing!\")\n",
    "\n",
    "# Example usage\n",
    "# play()\n"
   ]
  },
  {
   "cell_type": "code",
   "execution_count": 6,
   "id": "eb8619ad",
   "metadata": {},
   "outputs": [
    {
     "name": "stdout",
     "output_type": "stream",
     "text": [
      "Welcome to the game!\n"
     ]
    }
   ],
   "source": [
    "def main():\n",
    "    print(\"Welcome to the game!\")  # Display welcome message\n",
    "    play()  # Call the play function\n",
    "\n",
    "if __name__ == \"__main__\":\n",
    "    main()  # Call the main function if this script is executed directly\n",
    "\n"
   ]
  },
  {
   "cell_type": "code",
   "execution_count": null,
   "id": "fac82438",
   "metadata": {},
   "outputs": [],
   "source": []
  },
  {
   "cell_type": "code",
   "execution_count": null,
   "id": "f3cfba72",
   "metadata": {},
   "outputs": [],
   "source": []
  }
 ],
 "metadata": {
  "kernelspec": {
   "display_name": "Python 3 (ipykernel)",
   "language": "python",
   "name": "python3"
  },
  "language_info": {
   "codemirror_mode": {
    "name": "ipython",
    "version": 3
   },
   "file_extension": ".py",
   "mimetype": "text/x-python",
   "name": "python",
   "nbconvert_exporter": "python",
   "pygments_lexer": "ipython3",
   "version": "3.10.4"
  }
 },
 "nbformat": 4,
 "nbformat_minor": 5
}
